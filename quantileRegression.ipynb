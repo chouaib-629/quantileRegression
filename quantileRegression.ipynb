{
 "cells": [
  {
   "cell_type": "code",
   "execution_count": 2,
   "metadata": {},
   "outputs": [
    {
     "name": "stdout",
     "output_type": "stream",
     "text": [
      "Requirement already satisfied: numpy in c:\\users\\thoshiba\\appdata\\local\\programs\\python\\python313\\lib\\site-packages (2.1.2)\n",
      "Requirement already satisfied: pandas in c:\\users\\thoshiba\\appdata\\local\\programs\\python\\python313\\lib\\site-packages (2.2.3)\n",
      "Requirement already satisfied: matplotlib in c:\\users\\thoshiba\\appdata\\local\\programs\\python\\python313\\lib\\site-packages (3.9.2)\n",
      "Requirement already satisfied: scikit-learn in c:\\users\\thoshiba\\appdata\\local\\programs\\python\\python313\\lib\\site-packages (1.5.2)\n",
      "Requirement already satisfied: statsmodels in c:\\users\\thoshiba\\appdata\\local\\programs\\python\\python313\\lib\\site-packages (0.14.4)\n",
      "Requirement already satisfied: scipy in c:\\users\\thoshiba\\appdata\\local\\programs\\python\\python313\\lib\\site-packages (1.14.1)\n",
      "Requirement already satisfied: python-dateutil>=2.8.2 in c:\\users\\thoshiba\\appdata\\roaming\\python\\python313\\site-packages (from pandas) (2.9.0.post0)\n",
      "Requirement already satisfied: pytz>=2020.1 in c:\\users\\thoshiba\\appdata\\local\\programs\\python\\python313\\lib\\site-packages (from pandas) (2024.2)\n",
      "Requirement already satisfied: tzdata>=2022.7 in c:\\users\\thoshiba\\appdata\\local\\programs\\python\\python313\\lib\\site-packages (from pandas) (2024.2)\n",
      "Requirement already satisfied: contourpy>=1.0.1 in c:\\users\\thoshiba\\appdata\\local\\programs\\python\\python313\\lib\\site-packages (from matplotlib) (1.3.0)\n",
      "Requirement already satisfied: cycler>=0.10 in c:\\users\\thoshiba\\appdata\\local\\programs\\python\\python313\\lib\\site-packages (from matplotlib) (0.12.1)\n",
      "Requirement already satisfied: fonttools>=4.22.0 in c:\\users\\thoshiba\\appdata\\local\\programs\\python\\python313\\lib\\site-packages (from matplotlib) (4.54.1)\n",
      "Requirement already satisfied: kiwisolver>=1.3.1 in c:\\users\\thoshiba\\appdata\\local\\programs\\python\\python313\\lib\\site-packages (from matplotlib) (1.4.7)\n",
      "Requirement already satisfied: packaging>=20.0 in c:\\users\\thoshiba\\appdata\\roaming\\python\\python313\\site-packages (from matplotlib) (24.1)\n",
      "Requirement already satisfied: pillow>=8 in c:\\users\\thoshiba\\appdata\\local\\programs\\python\\python313\\lib\\site-packages (from matplotlib) (10.4.0)\n",
      "Requirement already satisfied: pyparsing>=2.3.1 in c:\\users\\thoshiba\\appdata\\local\\programs\\python\\python313\\lib\\site-packages (from matplotlib) (3.2.0)\n",
      "Requirement already satisfied: joblib>=1.2.0 in c:\\users\\thoshiba\\appdata\\local\\programs\\python\\python313\\lib\\site-packages (from scikit-learn) (1.4.2)\n",
      "Requirement already satisfied: threadpoolctl>=3.1.0 in c:\\users\\thoshiba\\appdata\\local\\programs\\python\\python313\\lib\\site-packages (from scikit-learn) (3.5.0)\n",
      "Requirement already satisfied: patsy>=0.5.6 in c:\\users\\thoshiba\\appdata\\local\\programs\\python\\python313\\lib\\site-packages (from statsmodels) (1.0.1)\n",
      "Requirement already satisfied: six>=1.5 in c:\\users\\thoshiba\\appdata\\roaming\\python\\python313\\site-packages (from python-dateutil>=2.8.2->pandas) (1.16.0)\n",
      "Note: you may need to restart the kernel to use updated packages.\n"
     ]
    }
   ],
   "source": [
    "%pip install numpy pandas matplotlib scikit-learn statsmodels scipy"
   ]
  },
  {
   "cell_type": "code",
   "execution_count": 31,
   "metadata": {},
   "outputs": [],
   "source": [
    "import numpy as np\n",
    "import pandas as pd\n",
    "import statsmodels.api as sm\n",
    "from statsmodels.regression.quantile_regression import QuantReg\n",
    "from sklearn.model_selection import train_test_split\n",
    "from functions import plot_quantile_regression, quantile_loss, wald_test, score_test, lm_test, compare_quantile_coeffs"
   ]
  },
  {
   "cell_type": "markdown",
   "metadata": {},
   "source": [
    "# Random On-time delivery dataset"
   ]
  },
  {
   "cell_type": "code",
   "execution_count": 32,
   "metadata": {},
   "outputs": [],
   "source": [
    "np.random.seed(42)\n",
    "N = 100"
   ]
  },
  {
   "cell_type": "markdown",
   "metadata": {},
   "source": [
    "**Features**"
   ]
  },
  {
   "cell_type": "code",
   "execution_count": 33,
   "metadata": {},
   "outputs": [],
   "source": [
    "distance_to_customer = np.random.uniform(1, 50, size=N)  #  km\n",
    "order_prep_time = np.random.uniform(5, 60, size=N)  #  time in minutes\n",
    "traffic_level = np.random.uniform(1, 10, size=N)  # Traffic congestion level (1=low, 10=high)\n",
    "delivery_time = (\n",
    "    30 + 0.8 * distance_to_customer + 0.5 * order_prep_time + 3 * traffic_level + np.random.normal(scale=10, size=N)\n",
    ") # Delivery time calculation with some noise"
   ]
  },
  {
   "cell_type": "markdown",
   "metadata": {},
   "source": [
    "**Create a DataFrame**"
   ]
  },
  {
   "cell_type": "code",
   "execution_count": 46,
   "metadata": {},
   "outputs": [
    {
     "data": {
      "text/html": [
       "<div>\n",
       "<style scoped>\n",
       "    .dataframe tbody tr th:only-of-type {\n",
       "        vertical-align: middle;\n",
       "    }\n",
       "\n",
       "    .dataframe tbody tr th {\n",
       "        vertical-align: top;\n",
       "    }\n",
       "\n",
       "    .dataframe thead th {\n",
       "        text-align: right;\n",
       "    }\n",
       "</style>\n",
       "<table border=\"1\" class=\"dataframe\">\n",
       "  <thead>\n",
       "    <tr style=\"text-align: right;\">\n",
       "      <th></th>\n",
       "      <th>distance_to_customer</th>\n",
       "      <th>order_prep_time</th>\n",
       "      <th>traffic_level</th>\n",
       "      <th>delivery_time</th>\n",
       "    </tr>\n",
       "  </thead>\n",
       "  <tbody>\n",
       "    <tr>\n",
       "      <th>0</th>\n",
       "      <td>19.352466</td>\n",
       "      <td>6.728605</td>\n",
       "      <td>6.778285</td>\n",
       "      <td>69.636848</td>\n",
       "    </tr>\n",
       "    <tr>\n",
       "      <th>1</th>\n",
       "      <td>47.585001</td>\n",
       "      <td>40.002573</td>\n",
       "      <td>1.757260</td>\n",
       "      <td>86.825063</td>\n",
       "    </tr>\n",
       "    <tr>\n",
       "      <th>2</th>\n",
       "      <td>36.867703</td>\n",
       "      <td>22.289579</td>\n",
       "      <td>2.454658</td>\n",
       "      <td>99.442368</td>\n",
       "    </tr>\n",
       "    <tr>\n",
       "      <th>3</th>\n",
       "      <td>30.334266</td>\n",
       "      <td>32.971388</td>\n",
       "      <td>9.086988</td>\n",
       "      <td>104.353260</td>\n",
       "    </tr>\n",
       "    <tr>\n",
       "      <th>4</th>\n",
       "      <td>8.644913</td>\n",
       "      <td>54.916156</td>\n",
       "      <td>6.457862</td>\n",
       "      <td>63.496167</td>\n",
       "    </tr>\n",
       "  </tbody>\n",
       "</table>\n",
       "</div>"
      ],
      "text/plain": [
       "   distance_to_customer  order_prep_time  traffic_level  delivery_time\n",
       "0             19.352466         6.728605       6.778285      69.636848\n",
       "1             47.585001        40.002573       1.757260      86.825063\n",
       "2             36.867703        22.289579       2.454658      99.442368\n",
       "3             30.334266        32.971388       9.086988     104.353260\n",
       "4              8.644913        54.916156       6.457862      63.496167"
      ]
     },
     "execution_count": 46,
     "metadata": {},
     "output_type": "execute_result"
    }
   ],
   "source": [
    "data = pd.DataFrame({\n",
    "    'distance_to_customer': distance_to_customer,\n",
    "    'order_prep_time': order_prep_time,\n",
    "    'traffic_level': traffic_level,\n",
    "    'delivery_time': delivery_time\n",
    "})\n",
    "data.head()"
   ]
  },
  {
   "cell_type": "markdown",
   "metadata": {},
   "source": [
    "**Split the data into training and testing sets**"
   ]
  },
  {
   "cell_type": "code",
   "execution_count": 35,
   "metadata": {},
   "outputs": [],
   "source": [
    "train, test = train_test_split(data, test_size=0.2, random_state=42)"
   ]
  },
  {
   "cell_type": "code",
   "execution_count": 36,
   "metadata": {},
   "outputs": [],
   "source": [
    "X_train = sm.add_constant(train[['distance_to_customer', 'order_prep_time', 'traffic_level']].values)\n",
    "y_train = train['delivery_time'].values\n",
    "\n",
    "X_test = sm.add_constant(test[['distance_to_customer', 'order_prep_time', 'traffic_level']].values)\n",
    "y_test = test['delivery_time'].values"
   ]
  },
  {
   "cell_type": "markdown",
   "metadata": {},
   "source": [
    "**Quantiles for quantile regression**"
   ]
  },
  {
   "cell_type": "code",
   "execution_count": 37,
   "metadata": {},
   "outputs": [],
   "source": [
    "taux1 = 0.25\n",
    "taux2 = 0.5\n",
    "taux3 = 0.75"
   ]
  },
  {
   "cell_type": "markdown",
   "metadata": {},
   "source": [
    "**Fit Quantile Regression Models**"
   ]
  },
  {
   "cell_type": "code",
   "execution_count": 38,
   "metadata": {},
   "outputs": [],
   "source": [
    "model = QuantReg(y_train, X_train)\n",
    "result_25 = model.fit(q=taux1)\n",
    "result_50 = model.fit(q=taux2)\n",
    "result_75 = model.fit(q=taux3)"
   ]
  },
  {
   "cell_type": "code",
   "execution_count": 39,
   "metadata": {},
   "outputs": [
    {
     "name": "stdout",
     "output_type": "stream",
     "text": [
      "Quantile regression results (taux = 0.25):                           QuantReg Regression Results                          \n",
      "==============================================================================\n",
      "Dep. Variable:                      y   Pseudo R-squared:               0.5549\n",
      "Model:                       QuantReg   Bandwidth:                       8.217\n",
      "Method:                 Least Squares   Sparsity:                        26.33\n",
      "Date:                Fri, 20 Dec 2024   No. Observations:                   80\n",
      "Time:                        19:45:21   Df Residuals:                       76\n",
      "                                        Df Model:                            3\n",
      "==============================================================================\n",
      "                 coef    std err          t      P>|t|      [0.025      0.975]\n",
      "------------------------------------------------------------------------------\n",
      "const         20.6248      5.766      3.577      0.001       9.141      32.109\n",
      "x1             0.7946      0.097      8.231      0.000       0.602       0.987\n",
      "x2             0.5385      0.080      6.697      0.000       0.378       0.699\n",
      "x3             3.8968      0.538      7.245      0.000       2.826       4.968\n",
      "==============================================================================\n",
      "\n",
      "Quantile regression results (taux = 0.5):                           QuantReg Regression Results                          \n",
      "==============================================================================\n",
      "Dep. Variable:                      y   Pseudo R-squared:               0.5607\n",
      "Model:                       QuantReg   Bandwidth:                       9.689\n",
      "Method:                 Least Squares   Sparsity:                        23.55\n",
      "Date:                Fri, 20 Dec 2024   No. Observations:                   80\n",
      "Time:                        19:45:21   Df Residuals:                       76\n",
      "                                        Df Model:                            3\n",
      "==============================================================================\n",
      "                 coef    std err          t      P>|t|      [0.025      0.975]\n",
      "------------------------------------------------------------------------------\n",
      "const         20.2341      5.476      3.695      0.000       9.327      31.141\n",
      "x1             0.9971      0.094     10.566      0.000       0.809       1.185\n",
      "x2             0.5482      0.085      6.468      0.000       0.379       0.717\n",
      "x3             4.0080      0.522      7.678      0.000       2.968       5.048\n",
      "==============================================================================\n",
      "\n",
      "Quantile regression results (taux = 0.75):                           QuantReg Regression Results                          \n",
      "==============================================================================\n",
      "Dep. Variable:                      y   Pseudo R-squared:               0.5338\n",
      "Model:                       QuantReg   Bandwidth:                       10.14\n",
      "Method:                 Least Squares   Sparsity:                        31.10\n",
      "Date:                Fri, 20 Dec 2024   No. Observations:                   80\n",
      "Time:                        19:45:21   Df Residuals:                       76\n",
      "                                        Df Model:                            3\n",
      "==============================================================================\n",
      "                 coef    std err          t      P>|t|      [0.025      0.975]\n",
      "------------------------------------------------------------------------------\n",
      "const         27.5265      6.492      4.240      0.000      14.598      40.455\n",
      "x1             1.0303      0.109      9.413      0.000       0.812       1.248\n",
      "x2             0.5924      0.108      5.476      0.000       0.377       0.808\n",
      "x3             3.5705      0.589      6.059      0.000       2.397       4.744\n",
      "==============================================================================\n"
     ]
    }
   ],
   "source": [
    "print(\"Quantile regression results (taux = 0.25): \", result_25.summary())\n",
    "print(\"\\nQuantile regression results (taux = 0.5): \", result_50.summary())\n",
    "print(\"\\nQuantile regression results (taux = 0.75): \", result_75.summary())"
   ]
  },
  {
   "cell_type": "markdown",
   "metadata": {},
   "source": [
    "**Call the plotting function**"
   ]
  },
  {
   "cell_type": "code",
   "execution_count": 40,
   "metadata": {},
   "outputs": [
    {
     "data": {
      "image/png": "[encoded data removed]",
      "text/plain": [
       "<Figure size 1000x600 with 1 Axes>"
      ]
     },
     "metadata": {},
     "output_type": "display_data"
    }
   ],
   "source": [
    "plot_quantile_regression(X_train, y_train, [result_25, result_50, result_75], [taux1, taux2, taux3])"
   ]
  },
  {
   "cell_type": "markdown",
   "metadata": {},
   "source": [
    "**Predict on test data and compute quantile loss**"
   ]
  },
  {
   "cell_type": "code",
   "execution_count": 41,
   "metadata": {},
   "outputs": [
    {
     "name": "stdout",
     "output_type": "stream",
     "text": [
      "\n",
      "Quantile Loss on Test Data:\n",
      "  τ = 0.25: Loss = 5.335\n",
      "  τ = 0.5: Loss = 5.515\n",
      "  τ = 0.75: Loss = 4.104\n"
     ]
    }
   ],
   "source": [
    "y_pred_25 = result_25.predict(X_test)\n",
    "y_pred_50 = result_50.predict(X_test)\n",
    "y_pred_75 = result_75.predict(X_test)\n",
    "\n",
    "loss_25 = quantile_loss(y_test, y_pred_25, taux1)\n",
    "loss_50 = quantile_loss(y_test, y_pred_50, taux2)\n",
    "loss_75 = quantile_loss(y_test, y_pred_75, taux3)\n",
    "\n",
    "print(\"\\nQuantile Loss on Test Data:\")\n",
    "print(f\"  τ = {taux1}: Loss = {loss_25:.3f}\")\n",
    "print(f\"  τ = {taux2}: Loss = {loss_50:.3f}\")\n",
    "print(f\"  τ = {taux3}: Loss = {loss_75:.3f}\")"
   ]
  },
  {
   "cell_type": "markdown",
   "metadata": {},
   "source": [
    "**Apply Wald Test for median quantile regression (τ = 0.5)**"
   ]
  },
  {
   "cell_type": "code",
   "execution_count": 42,
   "metadata": {},
   "outputs": [
    {
     "name": "stdout",
     "output_type": "stream",
     "text": [
      "\n",
      "Wald Test Results:\n",
      "  Coefficient: 0.997\n",
      "  Wald Statistic: 10.566\n",
      "  P-value: 0.000\n"
     ]
    }
   ],
   "source": [
    "wald_test(result_50)"
   ]
  },
  {
   "cell_type": "markdown",
   "metadata": {},
   "source": [
    "**Apply Score Test for median quantile regression (τ = 0.5)**"
   ]
  },
  {
   "cell_type": "code",
   "execution_count": 43,
   "metadata": {},
   "outputs": [
    {
     "name": "stdout",
     "output_type": "stream",
     "text": [
      "\n",
      "Score Test Results:\n",
      "  Score Statistic: -0.001\n",
      "  P-value: 0.999\n"
     ]
    }
   ],
   "source": [
    "score_test(result_50, X_train, y_train, taux2)"
   ]
  },
  {
   "cell_type": "markdown",
   "metadata": {},
   "source": [
    "**Apply LM Test for median quantile regression (τ = 0.5)**"
   ]
  },
  {
   "cell_type": "code",
   "execution_count": 44,
   "metadata": {},
   "outputs": [
    {
     "name": "stdout",
     "output_type": "stream",
     "text": [
      "\n",
      "Lagrange Multiplier (LM) Test Results:\n",
      "  LM Statistic: -2.475\n",
      "  P-value: 1.000\n"
     ]
    }
   ],
   "source": [
    "lm_test(result_50, X_train, y_train)"
   ]
  },
  {
   "cell_type": "markdown",
   "metadata": {},
   "source": [
    "**Compare coefficients between τ = 0.25 and τ = 0.75**"
   ]
  },
  {
   "cell_type": "code",
   "execution_count": 45,
   "metadata": {},
   "outputs": [
    {
     "name": "stdout",
     "output_type": "stream",
     "text": [
      "\n",
      "Comparison of Coefficients between τ = 0.25 and τ = 0.75:\n",
      "  Difference of Coefficients: -0.236\n",
      "  T-statistic: -1.615\n",
      "  P-value: 0.106\n"
     ]
    }
   ],
   "source": [
    "compare_quantile_coeffs(X_train, y_train, taux1, taux3)"
   ]
  }
 ],
 "metadata": {
  "kernelspec": {
   "display_name": "Python 3",
   "language": "python",
   "name": "python3"
  },
  "language_info": {
   "codemirror_mode": {
    "name": "ipython",
    "version": 3
   },
   "file_extension": ".py",
   "mimetype": "text/x-python",
   "name": "python",
   "nbconvert_exporter": "python",
   "pygments_lexer": "ipython3",
   "version": "3.13.0"
  }
 },
 "nbformat": 4,
 "nbformat_minor": 2
}
